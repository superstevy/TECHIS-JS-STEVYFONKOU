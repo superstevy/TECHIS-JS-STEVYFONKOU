{
  "nbformat": 4,
  "nbformat_minor": 0,
  "metadata": {
    "colab": {
      "name": "Python_Palindrome.ipynb",
      "provenance": [],
      "collapsed_sections": [],
      "authorship_tag": "ABX9TyOvUMPNapQR+Az10DMY0NZs",
      "include_colab_link": true
    },
    "kernelspec": {
      "name": "python3",
      "display_name": "Python 3"
    },
    "language_info": {
      "name": "python"
    }
  },
  "cells": [
    {
      "cell_type": "markdown",
      "metadata": {
        "id": "view-in-github",
        "colab_type": "text"
      },
      "source": [
        "<a href=\"https://colab.research.google.com/github/superstevy/TECHIS-JS-STEVYFONKOU/blob/main/Python_Palindrome.ipynb\" target=\"_parent\"><img src=\"https://colab.research.google.com/assets/colab-badge.svg\" alt=\"Open In Colab\"/></a>"
      ]
    },
    {
      "cell_type": "code",
      "execution_count": 33,
      "metadata": {
        "colab": {
          "base_uri": "https://localhost:8080/"
        },
        "id": "fEEOwjDwP8Hb",
        "outputId": "b5bfa909-c5d6-44ac-85f4-0a7821871a38"
      },
      "outputs": [
        {
          "output_type": "stream",
          "name": "stdout",
          "text": [
            "Enter a number: 134\n",
            "13431 : 'PALINDROME'\n"
          ]
        }
      ],
      "source": [
        "def palindrome(n=list(input(\"Enter a number: \"))):\n",
        "  l = len(n)\n",
        "  i = l - 2\n",
        "  while i >= 0:\n",
        "    n.append(n[i])\n",
        "    i -= 1\n",
        "  n = \"\".join(n)\n",
        "  print(n, \": 'PALINDROME'\")\n",
        "palindrome()"
      ]
    }
  ]
}