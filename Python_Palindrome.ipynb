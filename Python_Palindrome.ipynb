{
  "nbformat": 4,
  "nbformat_minor": 0,
  "metadata": {
    "colab": {
      "name": "Python_Palindrome.ipynb",
      "provenance": [],
      "collapsed_sections": [],
      "authorship_tag": "ABX9TyNNkPdRXg1AvmCmsNVTs22r",
      "include_colab_link": true
    },
    "kernelspec": {
      "name": "python3",
      "display_name": "Python 3"
    },
    "language_info": {
      "name": "python"
    }
  },
  "cells": [
    {
      "cell_type": "markdown",
      "metadata": {
        "id": "view-in-github",
        "colab_type": "text"
      },
      "source": [
        "<a href=\"https://colab.research.google.com/github/superstevy/TECHIS-JS-STEVYFONKOU/blob/main/Python_Palindrome.ipynb\" target=\"_parent\"><img src=\"https://colab.research.google.com/assets/colab-badge.svg\" alt=\"Open In Colab\"/></a>"
      ]
    },
    {
      "cell_type": "markdown",
      "source": [
        "This function can determine if a number is a palindrome or not."
      ],
      "metadata": {
        "id": "pnALLH4-sWY_"
      }
    },
    {
      "cell_type": "code",
      "execution_count": 54,
      "metadata": {
        "colab": {
          "base_uri": "https://localhost:8080/"
        },
        "id": "fEEOwjDwP8Hb",
        "outputId": "c2259a81-c20f-4941-955d-38a2602f3b7c"
      },
      "outputs": [
        {
          "output_type": "stream",
          "name": "stdout",
          "text": [
            "Enter a number: 13431\n",
            "13431 : 'PALINDROME'\n"
          ]
        }
      ],
      "source": [
        "def palindrome(n=list(input(\"Enter a number: \"))):\n",
        "  l = len(n)\n",
        "  i = 0\n",
        "  while i <= l-1:\n",
        "    if n[i] == n[(l-1)-i]:\n",
        "      i += 1\n",
        "    else:\n",
        "      break\n",
        "  n = \"\".join(n)\n",
        "  if i >= l-1:\n",
        "    print(n, \": 'PALINDROME'\")\n",
        "  else:\n",
        "    print(n, \": 'NOT A PALINDROME'\")  \n",
        "palindrome()"
      ]
    },
    {
      "cell_type": "markdown",
      "source": [
        "This function will turn any number into a palindrome."
      ],
      "metadata": {
        "id": "J7p63gbAsTXn"
      }
    },
    {
      "cell_type": "code",
      "source": [
        "def palindromes(n=list(input(\"Enter a number: \"))):\n",
        "  l = len(n)\n",
        "  i = l - 2\n",
        "  while i >= 0:\n",
        "    n.append(n[i])\n",
        "    i -= 1\n",
        "  n = \"\".join(n)\n",
        "  print(n, \": 'PALINDROME'\")\n",
        "palindromes()"
      ],
      "metadata": {
        "colab": {
          "base_uri": "https://localhost:8080/"
        },
        "id": "gX6O-aXPrOLg",
        "outputId": "e10a6f13-1b34-44a3-f35b-edcaac3d6b37"
      },
      "execution_count": 53,
      "outputs": [
        {
          "output_type": "stream",
          "name": "stdout",
          "text": [
            "Enter a number: 134\n",
            "13431 : 'PALINDROME'\n"
          ]
        }
      ]
    }
  ]
}