{
  "nbformat": 4,
  "nbformat_minor": 0,
  "metadata": {
    "colab": {
      "name": "Python_Simple_Calculator.ipynb",
      "provenance": [],
      "collapsed_sections": [],
      "authorship_tag": "ABX9TyNIu9rQX67eDo4kuQ+45WQF",
      "include_colab_link": true
    },
    "kernelspec": {
      "name": "python3",
      "display_name": "Python 3"
    },
    "language_info": {
      "name": "python"
    }
  },
  "cells": [
    {
      "cell_type": "markdown",
      "metadata": {
        "id": "view-in-github",
        "colab_type": "text"
      },
      "source": [
        "<a href=\"https://colab.research.google.com/github/superstevy/TECHIS-JS-STEVYFONKOU/blob/main/Python_Simple_Calculator.ipynb\" target=\"_parent\"><img src=\"https://colab.research.google.com/assets/colab-badge.svg\" alt=\"Open In Colab\"/></a>"
      ]
    },
    {
      "cell_type": "code",
      "execution_count": 35,
      "metadata": {
        "id": "LsbQDs3K-A-j",
        "colab": {
          "base_uri": "https://localhost:8080/"
        },
        "outputId": "30dca2cf-d649-47fd-c397-14cb0c46f100"
      },
      "outputs": [
        {
          "output_type": "stream",
          "name": "stdout",
          "text": [
            "Enter a number: 2\n",
            "Enter another number: 6\n",
            "Enter one of these operators, ['+', '-', '*', '/']:  -\n",
            "2.0 - 6.0 = -4.0\n",
            "( 2.0 + 6.0 )^2 = 64.0\n"
          ]
        }
      ],
      "source": [
        "a = float(input(\"Enter a number: \"))\n",
        "b = float(input(\"Enter another number: \"))\n",
        "operator = str(input(\"Enter one of these operators, ['+', '-', '*', '/']:  \"))\n",
        "\n",
        "if operator == \"+\":\n",
        "  print(a, \"+\", b, \"=\", a + b)\n",
        "elif operator == \"-\":\n",
        "    print(a, \"-\", b, \"=\", a - b)\n",
        "elif operator == \"*\":\n",
        "  print(a, \"*\", b, \"=\", a * b)\n",
        "elif operator == \"/\":\n",
        "  print(a, \"/\", b, \"=\", a / b)\n",
        "else:\n",
        "  print(\"Wrong operator!\")\n",
        "\n",
        "c = (a + b) * (a + b)\n",
        "print(\"(\", a, \"+\", b, \")^2 =\", c)\n"
      ]
    }
  ]
}