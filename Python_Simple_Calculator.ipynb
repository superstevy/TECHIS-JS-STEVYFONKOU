{
  "nbformat": 4,
  "nbformat_minor": 0,
  "metadata": {
    "colab": {
      "name": "Python_Simple_Calculator.ipynb",
      "provenance": [],
      "collapsed_sections": [],
      "authorship_tag": "ABX9TyNPOTZd1waqHPVSVZ8QtOiq",
      "include_colab_link": true
    },
    "kernelspec": {
      "name": "python3",
      "display_name": "Python 3"
    },
    "language_info": {
      "name": "python"
    }
  },
  "cells": [
    {
      "cell_type": "markdown",
      "metadata": {
        "id": "view-in-github",
        "colab_type": "text"
      },
      "source": [
        "<a href=\"https://colab.research.google.com/github/superstevy/TECHIS-JS-STEVYFONKOU/blob/main/Python_Simple_Calculator.ipynb\" target=\"_parent\"><img src=\"https://colab.research.google.com/assets/colab-badge.svg\" alt=\"Open In Colab\"/></a>"
      ]
    },
    {
      "cell_type": "code",
      "execution_count": 55,
      "metadata": {
        "id": "LsbQDs3K-A-j",
        "colab": {
          "base_uri": "https://localhost:8080/"
        },
        "outputId": "2cf0983b-2ff1-42ba-c4f0-194c13a551e7"
      },
      "outputs": [
        {
          "output_type": "stream",
          "name": "stdout",
          "text": [
            "Enter a number: 4\n",
            "Enter another number: 5\n",
            "Enter one of these operators, ['+', '-', '*', '/']:  *\n",
            "4.0 * 5.0 = 20.0\n",
            "( 4.0 + 5.0 )^2 = 81.0\n"
          ]
        }
      ],
      "source": [
        "a = float(input(\"Enter a number: \"))\n",
        "b = float(input(\"Enter another number: \"))\n",
        "operator = str(input(\"Enter one of these operators, ['+', '-', '*', '/']:  \"))\n",
        "\n",
        "if operator == \"+\":\n",
        "  print(a, \"+\", b, \"=\", a + b)\n",
        "elif operator == \"-\":\n",
        "    print(a, \"-\", b, \"=\", a - b)\n",
        "elif operator == \"*\":\n",
        "  print(a, \"*\", b, \"=\", a * b)\n",
        "elif operator == \"/\":\n",
        "  print(a, \"/\", b, \"=\", a / b)\n",
        "else:\n",
        "  print(\"Wrong operator!\")\n",
        "\n",
        "c = (a + b) * (a + b)\n",
        "print(\"(\", a, \"+\", b, \")^2 =\", c)"
      ]
    }
  ]
}