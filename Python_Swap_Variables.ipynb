{
  "nbformat": 4,
  "nbformat_minor": 0,
  "metadata": {
    "colab": {
      "name": "Python_Swap.Variables.ipynb",
      "provenance": [],
      "collapsed_sections": [],
      "authorship_tag": "ABX9TyNUpgOat9Hsl6qfw0jxsQig",
      "include_colab_link": true
    },
    "kernelspec": {
      "name": "python3",
      "display_name": "Python 3"
    },
    "language_info": {
      "name": "python"
    }
  },
  "cells": [
    {
      "cell_type": "markdown",
      "metadata": {
        "id": "view-in-github",
        "colab_type": "text"
      },
      "source": [
        "<a href=\"https://colab.research.google.com/github/superstevy/TECHIS-JS-STEVYFONKOU/blob/main/Python_Swap_Variables.ipynb\" target=\"_parent\"><img src=\"https://colab.research.google.com/assets/colab-badge.svg\" alt=\"Open In Colab\"/></a>"
      ]
    },
    {
      "cell_type": "code",
      "execution_count": 3,
      "metadata": {
        "colab": {
          "base_uri": "https://localhost:8080/"
        },
        "id": "UPUv4HS4bI9n",
        "outputId": "583a8bbe-6a47-45ee-8ba4-c74229451a3c"
      },
      "outputs": [
        {
          "output_type": "stream",
          "name": "stdout",
          "text": [
            "Enter a word or number: ali\n",
            "Enter another word or number: 5\n",
            "x= ali\n",
            "y= 5\n",
            "Swaping x and y variables...\n",
            "Now x = 5\n",
            "And y = ali\n"
          ]
        }
      ],
      "source": [
        "x = input(\"Enter a word or number: \")\n",
        "y = input(\"Enter another word or number: \")\n",
        "\n",
        "print(\"x=\", x)\n",
        "print(\"y=\", y)\n",
        "print(\"Swaping x and y variables...\")\n",
        "\n",
        "z = x\n",
        "x = y\n",
        "y = z\n",
        "\n",
        "print(\"Now x =\", x)\n",
        "print(\"And y =\", y)"
      ]
    },
    {
      "cell_type": "code",
      "source": [
        "x = input(\"Enter a word or number: \")\n",
        "y = input(\"Enter another word or number: \")\n",
        "\n",
        "print(\"x =\", x)\n",
        "print(\"y =\", y)\n",
        "print(\"Swaping x and y variables...\")\n",
        "\n",
        "print(\"Now x =\", y)\n",
        "print(\"And y =\", x)"
      ],
      "metadata": {
        "colab": {
          "base_uri": "https://localhost:8080/"
        },
        "id": "qTQrOuFWeAE8",
        "outputId": "1af14fbc-bb01-457b-eb67-e26d02ff1d87"
      },
      "execution_count": 4,
      "outputs": [
        {
          "output_type": "stream",
          "name": "stdout",
          "text": [
            "Enter a word or number: 45\n",
            "Enter another word or number: J\n",
            "x= 45\n",
            "y= J\n",
            "Swaping x and y variables...\n",
            "Now x = J\n",
            "And y = 45\n"
          ]
        }
      ]
    }
  ]
}